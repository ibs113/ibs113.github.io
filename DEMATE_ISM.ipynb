{
 "cells": [
  {
   "cell_type": "markdown",
   "metadata": {},
   "source": [
    "## Fuzzy"
   ]
  },
  {
   "cell_type": "code",
   "execution_count": 12,
   "metadata": {},
   "outputs": [],
   "source": [
    "import numpy as np\n",
    "dataset = list([\n",
    "    #          g1              g2                g3                  g4\n",
    "    [  (  0,   0, 1/4),  (  0, 1/4, 1/2),  (1/4, 1/2, 3/4),  (  0,   0, 1/4)  ],   #g1\n",
    "    [  (1/2, 3/4,   1),  (  0,   0, 1/4),  (3/4,   1,   1),  (3/4,   1,   1)  ],   #g2\n",
    "    [  (1/2, 3/4,   1),  (1/4, 1/2, 3/4),  (  0,   0, 1/4),  (  0, 1/4, 1/2)  ],   #g3\n",
    "    [  (3/4,   1,   1),  (  0, 1/4, 1/2),  (1/4, 1/2, 3/4),  (  0,   0, 1/4)  ]    #g4\n",
    "    ])"
   ]
  },
  {
   "cell_type": "code",
   "execution_count": 13,
   "metadata": {},
   "outputs": [],
   "source": [
    "X_a = np.zeros((len(dataset), len(dataset)))\n",
    "X_b = np.zeros((len(dataset), len(dataset)))\n",
    "X_c = np.zeros((len(dataset), len(dataset)))\n",
    "\n",
    "m_a = np.ones((len(dataset), len(dataset))) # min\n",
    "m_c = np.zeros((len(dataset), len(dataset))) # max"
   ]
  },
  {
   "cell_type": "code",
   "execution_count": 14,
   "metadata": {},
   "outputs": [
    {
     "name": "stdout",
     "output_type": "stream",
     "text": [
      "[[0.0375     0.26666667 0.5        0.03333333]\n",
      " [0.7125     0.03333333 0.96666667 0.96666667]\n",
      " [0.7125     0.5        0.03333333 0.26666667]\n",
      " [1.         0.26666667 0.5        0.03333333]]\n"
     ]
    }
   ],
   "source": [
    "for i in range(0, len(dataset)):\n",
    "   for j in range(0, len(dataset)):\n",
    "     a, b, c  = dataset[i][j] # 每個位置都有三個數值\n",
    "     X_a[i,j] = a\n",
    "     X_b[i,j] = b\n",
    "     X_c[i,j] = c\n",
    "     if (a < m_a[i,j]): # 若a比1小 就用 a\n",
    "        m_a[i,j] = a\n",
    "     if (c > m_c[i,j]): # 若c比0 大 就用 c\n",
    "        m_c[i,j] = c\n",
    "\n",
    "m_a = np.min(m_a, axis = 1)\n",
    "m_c = np.max(m_c, axis = 1)\n",
    "X_a = (X_a - m_a) / (m_c - m_a)\n",
    "X_b = (X_b - m_a) / (m_c - m_a)\n",
    "X_c = (X_c - m_a) / (m_c - m_a)\n",
    "\n",
    "L  = X_b / (1 + X_b - X_a)\n",
    "R  = X_c / (1 + X_c - X_b)\n",
    "W  = (L * (1 - L) + R * R) / (1 - L + R)\n",
    "Z  = m_a  + W * (m_c - m_a)\n",
    "print(Z) # 雖然是fuzzy但是還是會回到標準的4*4 matrix"
   ]
  },
  {
   "cell_type": "markdown",
   "metadata": {},
   "source": [
    "1. 定義因素及評量尺度**\n",
    "\n",
    "To **比較變數之間的關係**, 建立一個 n * n 的table to the experts, 其中n是對應的因子, 填答者需根據左邊第1列對應於右邊第1欄的影響程度，填入表格中空白格，分別以五個尺度進行區分，從無影響到極高影響分別為 0、1、 2、 3、 4 五個等級，並寫上數字，分別代表 **{無相關、低度相關、中度相關、高度相關、極高度相關} - five Likert Scale**。\n",
    "\n",
    "- if there are 7 experts, then we get the mean of the element in n * n table.\n",
    "\n",
    "2. 建立直接關係矩陣\n",
    "\n",
    "- 上面的 <mark>Z</mark> 就是 **直接關係矩陣**,\n",
    "- 正規化關係矩陣後，接下來便要建立直接/間接關係矩陣\n",
    "\n",
    "\n",
    "3. 正規化 直接關係矩陣\n",
    "\n",
    "$$\n",
    "\\lambda = \\frac{1}{\\text{max}_[1<i<n] [\\sum z_{ij}]}\n",
    "$$\n",
    "\n",
    "- 正規化 <mark>直接關係矩陣 $N$</mark> ，可由 直接關係矩陣 $Z$ 乘以 $\\lambda$ 值\n",
    "\n",
    "\n",
    "4. 得出 正規化關係矩陣 $N$ 後，接下來便要建立 直接/間接關係矩陣 $T$\n",
    "\n",
    "- 建立直接/間接關係矩陣\n",
    "$$\n",
    "T=N(I-I-N)^{-1}\n",
    "$$\n",
    "\n",
    "- 由直接/間接關係矩陣 $T$ 求出 $D_i$ 與 $R_j$ 值\n",
    "$$\n",
    "D_i = \\sum_i t_{ij}; R_j = \\sum_j t_{ij}\n",
    "$$"
   ]
  },
  {
   "cell_type": "code",
   "execution_count": 15,
   "metadata": {},
   "outputs": [],
   "source": [
    "X = Z/np.max(np.sum(Z, axis = 1))\n",
    "Y = np.linalg.inv(np.identity(X.shape[0]) - X)\n",
    "T = np.matmul(X, Y)\n",
    "\n",
    "D = np.sum(T, axis = 1)\n",
    "R = np.sum(T, axis = 0)"
   ]
  },
  {
   "cell_type": "markdown",
   "metadata": {},
   "source": [
    "DEMETAL 就是要有四個變數 <mark>D_plus_R, D_minus_R, T, weights</mark>\n",
    "\n",
    "- $(D_k+R_k)$ 為中心度,顯現該因素k在所有問題中的核心程度；\n",
    "\n",
    "- $(D_k–R_k)$ 為原因度，此值可顯現該因素k在所有問題中歸屬的因果程度，\n",
    " - 若為正值則該因素偏向為原因類，若為負值表該因素偏向為結果類"
   ]
  },
  {
   "cell_type": "code",
   "execution_count": 16,
   "metadata": {},
   "outputs": [
    {
     "data": {
      "text/plain": [
       "array([[0.19666981, 0.1927033 , 0.31877271, 0.11760941],\n",
       "       [0.74330491, 0.2769602 , 0.71047733, 0.54751457],\n",
       "       [0.52587101, 0.31960815, 0.27637506, 0.25203789],\n",
       "       [0.62657762, 0.26193263, 0.43329292, 0.15986101]])"
      ]
     },
     "execution_count": 16,
     "metadata": {},
     "output_type": "execute_result"
    }
   ],
   "source": [
    "D_plus_R = D + R # 中心度\n",
    "D_minus_R = D - R\n",
    "weights = (D_plus_R - D_minus_R)/(np.sum(D_plus_R + D_minus_R))\n",
    "T"
   ]
  },
  {
   "cell_type": "code",
   "execution_count": 17,
   "metadata": {},
   "outputs": [
    {
     "name": "stdout",
     "output_type": "stream",
     "text": [
      "g1 2.918\n",
      "g2 3.329\n",
      "g3 3.113\n",
      "g4 2.559\n"
     ]
    }
   ],
   "source": [
    "# Prominence = D + R\n",
    "for i in range(0, D_plus_R.shape[0]):\n",
    "    print('g'+str(i+1), round(D_plus_R[i], 3) )"
   ]
  },
  {
   "cell_type": "code",
   "execution_count": 18,
   "metadata": {},
   "outputs": [
    {
     "name": "stdout",
     "output_type": "stream",
     "text": [
      "g1 -1.267\n",
      "g2 1.227\n",
      "g3 -0.365\n",
      "g4 0.405\n"
     ]
    }
   ],
   "source": [
    "for i in range(0, D_minus_R.shape[0]):\n",
    "    print('g'+str(i+1), round(D_minus_R[i], 3) )"
   ]
  },
  {
   "cell_type": "code",
   "execution_count": 19,
   "metadata": {},
   "outputs": [
    {
     "name": "stdout",
     "output_type": "stream",
     "text": [
      "g1 0.351\n",
      "g2 0.176\n",
      "g3 0.292\n",
      "g4 0.181\n"
     ]
    }
   ],
   "source": [
    "# Criteira Weights\n",
    "for i in range(0, weights.shape[0]):\n",
    "    print('g'+str(i+1), round(weights[i], 3) )"
   ]
  },
  {
   "cell_type": "code",
   "execution_count": 20,
   "metadata": {},
   "outputs": [
    {
     "name": "stdout",
     "output_type": "stream",
     "text": [
      "原因要素:x1 x2 x3 x4 \n",
      "结果要素:\n"
     ]
    }
   ],
   "source": [
    "causal_factors = ''\n",
    "result_factors = ''\n",
    "for i in range(len(R)):\n",
    "    if R[i] > 0:\n",
    "      causal_factors = causal_factors + 'x' + str(i + 1) + ' '\n",
    "    elif R[i] < 0:\n",
    "      result_factors = result_factors + 'x' + str(i + 1) + ' '\n",
    "print(\"原因要素:\" + causal_factors)\n",
    "print(\"结果要素:\" + result_factors)"
   ]
  },
  {
   "cell_type": "markdown",
   "metadata": {},
   "source": [
    "**繪製因果關係圖**\n",
    "\n",
    "因果關係圖可將各因素間複雜的關係進行簡化，展現出各因素對其他因素的影響情況，繪製因果圖時，以中心度(Dk+Rk)為橫軸，原因度(Dk–Rk )為縱軸，構成一個座標圖形。\n",
    "\n",
    "运用上文计算的结果，绘制原因-结果图，这张图可以看到各个因子之间互相影响的大小，以及对研究内容影响的大小.\n",
    "\n",
    "- 第1类为强原因因子集（第Ⅰ区），这类因子对研究对象的形成具有非常显著的影响，且对其他结果型因子有较大的影响；\n",
    "\n",
    "- 第2类为弱原因因子集（第Ⅱ区），这类因子对研究对象的形成也具有重要影响，对其他结果型因子也有一定的影响；\n",
    "\n",
    "- 第3类为弱结果因子集（第Ⅲ区），这类因子是其他原因型因子综合作用的结果，对研究对象的形成具有一定的影响；\n",
    "\n",
    "- 第4类为强结果因子集（第Ⅳ区），这类因子也是其他原因型因子综合作用的结果，但是对研究对象的形成具有非常重要的影响。\n",
    "\n",
    "\n",
    "\n",
    "DEMATEL计算所得因子中心度越大，其影响程度也就越大，因此，需要重点关注**第Ⅰ区的强原因因子集及第Ⅳ区的强结果因子集**。"
   ]
  },
  {
   "cell_type": "code",
   "execution_count": 21,
   "metadata": {},
   "outputs": [],
   "source": [
    "E = T + np.identity(Z.shape[0]) # 整體影響矩陣"
   ]
  },
  {
   "cell_type": "code",
   "execution_count": null,
   "metadata": {},
   "outputs": [],
   "source": [
    "matrix = list([0, 1, 0],\n",
    "                  [2, 0, 3],\n",
    "                  [0, 4, 0])\n",
    "#new_matrix = np.where(matrix != 0, 1, matrix)"
   ]
  },
  {
   "cell_type": "code",
   "execution_count": 12,
   "metadata": {},
   "outputs": [
    {
     "data": {
      "image/png": "[encoded data removed]",
      "text/plain": [
       "<Figure size 640x480 with 1 Axes>"
      ]
     },
     "metadata": {},
     "output_type": "display_data"
    }
   ],
   "source": [
    "import matplotlib as mpl\n",
    "import matplotlib.pyplot as plt\n",
    "\n",
    "#x轴为上文计算出的中心度\n",
    "x = D_plus_R # 中心度\n",
    "y = D_minus_R\n",
    "\n",
    "#因子名\n",
    "factors_name = [r'$x_1$', r'$x_2$', r'$x_3$', r'$x_4$', r'$x_5$',\n",
    "        r'$x_6$', r'$x_7$', r'$x_8$', r'$x_9$', r'$x_{10}$'] # 10 factors\n",
    "\n",
    "#画散点图，并增加相应名称、线段和调整大小和位置\n",
    "plt.scatter(x, y, s=3, c='k')\n",
    "\n",
    "plt.xlabel('C')\n",
    "plt.ylabel('W')\n",
    "for i in range(len(x)):\n",
    "    if i == 0:\n",
    "        plt.text(x[i]+0.025, y[i]-0.085, factors_name[i], fontsize=17)\n",
    "    elif i == 3:\n",
    "        plt.text(x[i]+0.025, y[i]-0.1, factors_name[i], fontsize=17)\n",
    "    elif i == 6:\n",
    "        plt.text(x[i]-0.18, y[i]-0.1, factors_name[i], fontsize=17)\n",
    "    elif i == 7:\n",
    "        plt.text(x[i]-0.15, y[i]-0.12, factors_name[i], fontsize=17)\n",
    "    else:\n",
    "        plt.text(x[i]+0.025, y[i]+0.025, factors_name[i], fontsize=17)\n",
    "\n",
    "plt.vlines(sum(x)/len(x), -1.55, 1.55, colors='k', linestyles='dashed')\n",
    "plt.hlines(0, sum(x)/len(x)-2, sum(x)/len(x)+2, colors='k', linestyles='dashed')\n",
    "\n",
    "plt.xlim(sum(x)/len(x)-2, sum(x)/len(x)+2)\n",
    "plt.ylim(-1.55, 1.55)\n",
    "\n",
    "plt.text(sum(x)/len(x)+2-0.2, 1.4-0.1, 'Ⅰ', fontsize=17)\n",
    "plt.text(sum(x)/len(x)-2+0.1, 1.4-0.1, 'Ⅱ', fontsize=17)\n",
    "plt.text(sum(x)/len(x)-2+0.1, -1.55+0.1, 'Ⅲ', fontsize=17)\n",
    "plt.text(sum(x)/len(x)+2-0.2, -1.55+0.1, 'Ⅳ', fontsize=17)\n",
    "\n",
    "plt.show()"
   ]
  },
  {
   "cell_type": "markdown",
   "metadata": {},
   "source": [
    "## ISM analysis Go\n",
    "\n",
    "ISM(解釋結構模型，Interpretative Structural Modeling Method,簡稱ISM方法)是一種系統工程研究方法，其作用在於研究系統結構關係情況；已知各要素間的影響關係情況，現希望使用解釋結構模型將各種邏輯結構關係進行梳理，比如找出各要素的層級層次關係情況，此時則可以使用解釋結構模型。"
   ]
  },
  {
   "cell_type": "code",
   "execution_count": 14,
   "metadata": {},
   "outputs": [
    {
     "name": "stdout",
     "output_type": "stream",
     "text": [
      "[np.float64(8.0), np.float64(7.0), np.float64(7.0), np.float64(6.0)]\n"
     ]
    },
    {
     "data": {
      "text/plain": [
       "array([[1., 0., 1., 0.],\n",
       "       [1., 1., 1., 1.],\n",
       "       [1., 1., 1., 1.],\n",
       "       [1., 1., 1., 1.]])"
      ]
     },
     "execution_count": 14,
     "metadata": {},
     "output_type": "execute_result"
    }
   ],
   "source": [
    "E = T + np.identity(Z.shape[0]) # 整體影響矩陣\n",
    "lbd = 0.20      # 相应的lambda值\n",
    "F = E\n",
    "for i in range(Z.shape[0]):\n",
    "    for j in range(Z.shape[1]):\n",
    "        if E[i, j] > lbd:\n",
    "            F[i,j] = 1\n",
    "        elif E[i, j] < lbd:\n",
    "            F[i, j] = 0\n",
    "\n",
    "node_degree = np.sum(F, axis = 0) + np.sum(F, axis = 1)\n",
    "print(sorted(node_degree, reverse=True))\n",
    "F"
   ]
  },
  {
   "cell_type": "markdown",
   "metadata": {},
   "source": [
    "ISM analysis is based on the <mark>reachability matrix (RM)</mark>\n",
    "\n",
    "<mark>F is the inp.txt</mark>"
   ]
  },
  {
   "cell_type": "code",
   "execution_count": 33,
   "metadata": {},
   "outputs": [],
   "source": [
    "from collections import defaultdict\n",
    "import numpy as np\n",
    "import matplotlib.pyplot as plt\n",
    "\n",
    "#Class to represent a graph\n",
    "class Graph:\n",
    "    def __init__(self, vertices):\n",
    "        self.V = vertices\n",
    "\n",
    "    # A utility function to print the solution\n",
    "    def printSolution(self, reach):\n",
    "        print (\"Following matrix transitive closure of the given graph \")\n",
    "        for i in range(self.V):\n",
    "            for j in range(self.V):\n",
    "                print (reach[i][j],end=\" \")\n",
    "            print(\"\\n\")\n",
    "\n",
    "\n",
    "    # Prints transitive closure of graph[][]\n",
    "    def transitiveClosure(self,graph):\n",
    "        reach =[i[:] for i in graph]\n",
    "        for k in range(self.V):\n",
    "            for i in range(self.V):\n",
    "                for j in range(self.V):\n",
    "                    reach[i][j] = reach[i][j] or (reach[i][k] and reach[k][j])\n",
    "        return reach\n",
    "\n",
    "def print_final_reachability(initial, final):\n",
    "\tmat = np.matrix(final)\n",
    "\twith open('outfile.txt','wb') as f:\n",
    "\t\tfor line in mat:\n",
    "\t\t\tnp.savetxt(f, line, fmt='%.f')\n",
    "\n",
    "\tfor i in range(n):\n",
    "            for j in range(n):\n",
    "                if(final[i][j]==1 and initial[i][j]==0):\n",
    "                    print('1*',end=\" \")\n",
    "                elif(final[i][j]==1):\n",
    "                    print('1',end=\" \")\n",
    "                else:\n",
    "                    print('0',end=\" \")\n",
    "            print(\"\\n\")\n",
    "\n",
    "def Level_Partioning(final):\n",
    "    common_mat = []\n",
    "    for i in range(n):\n",
    "        temp_reach = []\n",
    "        temp_antec = []\n",
    "        for j in range(n):\n",
    "            if(final[i][j]==1):\n",
    "                temp_reach.append(j)\n",
    "            if(final[j][i]==1):\n",
    "                temp_antec.append(j)\n",
    "        common_mat.append(temp_reach)\n",
    "        common_mat.append(temp_antec)\n",
    "    return common_mat\n",
    "\n",
    "def stop_crit(level):\n",
    "    for x in level:\n",
    "        if(x==0):\n",
    "            return True\n",
    "    return False\n",
    "\n",
    "def xandy(final):\n",
    "    Driving_power = []\n",
    "    Dependence_power = []\n",
    "\n",
    "    for i in range(n):\n",
    "        countx=0\n",
    "        county=0\n",
    "        for j in range(n):\n",
    "            if(final[i][j]==1):\n",
    "                countx = countx + 1\n",
    "            if(final[j][i]==1):\n",
    "                county = county + 1\n",
    "        Driving_power.append(countx)\n",
    "        Dependence_power.append(county)\n",
    "    return Driving_power, Dependence_power\n",
    "\n",
    "def find_level(intersection_set, common_mat):\n",
    "    levels = np.zeros(n, dtype=int)\n",
    "    count = 1\n",
    "\n",
    "    while(stop_crit(levels)):\n",
    "        store = []\n",
    "        for i in range(n):\n",
    "            if(len(intersection_set[i])!=0 and set(intersection_set[i]) == set(common_mat[2*i])):\n",
    "                levels[i] = count\n",
    "                store.append(i)\n",
    "        count = count + 1\n",
    "        for x in store:\n",
    "            for i in common_mat:\n",
    "                if x in i: i.remove(x)\n",
    "            for i in intersection_set:\n",
    "                if x in i: i.remove(x)\n",
    "    return levels\n",
    "\n",
    "def plot_it(Driving_power, Dependence_power):\n",
    "    plt.scatter(Dependence_power, Driving_power)\n",
    "    pts = dict() #pts is dictionary mapping from tuple of points to list of index corresponding to that\n",
    "    for i, txt in enumerate(range(n)):\n",
    "    \tt = (Dependence_power[i], Driving_power[i]) #t is placeholder variable for coordinate\n",
    "    \tif t in pts:\n",
    "    \t\tpts[t].append(txt+1)\n",
    "    \telse:\n",
    "    \t\tpts[t]=[txt+1]\n",
    "\n",
    "    for i, txt in enumerate(range(n)):\n",
    "       \tt = (Dependence_power[i], Driving_power[i])\n",
    "        plt.annotate(pts[t],t)\n",
    "\n",
    "\n",
    "    x1, y1 = [-1, n+1], [n/2, n/2]\n",
    "    x2, y2 = [n/2, n/2], [-1, n+1]\n",
    "    plt.plot(x1, y1, x2, y2)\n",
    "\n",
    "    plt.xlim(0,n+1)\n",
    "    plt.ylim(0,n+1)\n",
    "    plt.xlabel('Dependence')\n",
    "    plt.ylabel('Driving Power')\n",
    "    plt.title('Micmac Analysis')\n",
    "    plt.grid()\n",
    "    plt.show()"
   ]
  },
  {
   "cell_type": "code",
   "execution_count": 34,
   "metadata": {},
   "outputs": [
    {
     "name": "stdout",
     "output_type": "stream",
     "text": [
      "1 1 1 1 1 1* 1 1* 1 1* 1 1* 1* \n",
      "\n",
      "0 1 0 0 0 1 1 0 0 0 0 1* 1 \n",
      "\n",
      "0 1* 1 1 1* 1* 1 1 0 0 1* 1* 1* \n",
      "\n",
      "0 1* 0 1 1 1* 1 0 0 0 1* 1* 1* \n",
      "\n",
      "0 1 0 1 1 1 1 0 0 0 1 1 1* \n",
      "\n",
      "0 1 0 0 0 1 1 0 0 0 0 1* 1 \n",
      "\n",
      "0 0 0 0 0 0 1 0 0 0 0 1 0 \n",
      "\n",
      "0 1 1 1* 1 1 1 1 0 0 1 1* 1* \n",
      "\n",
      "1 1* 1* 1* 1* 1 1 1 1 1 1* 1* 1* \n",
      "\n",
      "1* 1* 1 1* 1 1* 1* 1 1 1 1* 1 1* \n",
      "\n",
      "0 1* 0 1* 1 1 1 0 0 0 1 1 1* \n",
      "\n",
      "0 0 0 0 0 0 1 0 0 0 0 1 0 \n",
      "\n",
      "0 1 0 0 0 1 1* 0 0 0 0 1* 1 \n",
      "\n"
     ]
    }
   ],
   "source": [
    "n = 13\n",
    "graph = np.loadtxt('inp.txt', usecols=range(n))\n",
    "\n",
    "g= Graph(n)\n",
    "final = g.transitiveClosure(graph)\n",
    "\n",
    "temp = np.loadtxt('inp.txt', usecols=range(n))\n",
    "print_final_reachability(temp, final)\n",
    "Driving_power, Dependence_power = xandy(final)\n",
    "\n",
    "common_mat = Level_Partioning(final)"
   ]
  },
  {
   "cell_type": "code",
   "execution_count": 35,
   "metadata": {},
   "outputs": [
    {
     "data": {
      "text/plain": [
       "array([5, 2, 4, 3, 3, 2, 1, 4, 5, 5, 3, 1, 2])"
      ]
     },
     "execution_count": 35,
     "metadata": {},
     "output_type": "execute_result"
    }
   ],
   "source": [
    "intersection_set = []\n",
    "for i in range(n):\n",
    "    intersection_set.append(list(set(common_mat[2*i]) & set(common_mat[2*i + 1])))\n",
    "\n",
    "levels = find_level(intersection_set, common_mat)\n",
    "levels"
   ]
  },
  {
   "cell_type": "code",
   "execution_count": 36,
   "metadata": {},
   "outputs": [
    {
     "name": "stdout",
     "output_type": "stream",
     "text": [
      "Level in ISM for E1 is 5\n",
      "Level in ISM for E2 is 2\n",
      "Level in ISM for E3 is 4\n",
      "Level in ISM for E4 is 3\n",
      "Level in ISM for E5 is 3\n",
      "Level in ISM for E6 is 2\n",
      "Level in ISM for E7 is 1\n",
      "Level in ISM for E8 is 4\n",
      "Level in ISM for E9 is 5\n",
      "Level in ISM for E10 is 5\n",
      "Level in ISM for E11 is 3\n",
      "Level in ISM for E12 is 1\n",
      "Level in ISM for E13 is 2\n"
     ]
    },
    {
     "data": {
      "image/png": "[encoded data removed]",
      "text/plain": [
       "<Figure size 640x480 with 1 Axes>"
      ]
     },
     "metadata": {},
     "output_type": "display_data"
    }
   ],
   "source": [
    "for i in range(n):\n",
    "    print('Level in ISM for E%d is %d'%(i+1,levels[i]))\n",
    "\n",
    "plot_it(Driving_power, Dependence_power)"
   ]
  },
  {
   "cell_type": "code",
   "execution_count": 37,
   "metadata": {},
   "outputs": [
    {
     "name": "stdout",
     "output_type": "stream",
     "text": [
      "[[0 1 0]\n",
      " [1 0 1]\n",
      " [0 1 0]]\n"
     ]
    }
   ],
   "source": [
    "import numpy as np\n",
    "matrix = np.array([[0, 1, 0], [2, 0, 3], [0, 4, 0]])\n",
    "\n",
    "new_matrix = np.where(matrix != 0, 1, matrix)\n",
    "print(new_matrix)"
   ]
  },
  {
   "cell_type": "code",
   "execution_count": 38,
   "metadata": {},
   "outputs": [
    {
     "name": "stdout",
     "output_type": "stream",
     "text": [
      "[[1. 1. 1. 1. 1. 0. 1. 0. 1. 0. 1. 0. 0.]\n",
      " [0. 1. 0. 0. 0. 1. 1. 0. 0. 0. 0. 0. 1.]\n",
      " [0. 0. 1. 1. 0. 0. 1. 1. 0. 0. 0. 0. 0.]\n",
      " [0. 0. 0. 1. 1. 0. 1. 0. 0. 0. 0. 0. 0.]\n",
      " [0. 1. 0. 1. 1. 1. 1. 0. 0. 0. 1. 1. 0.]\n",
      " [0. 1. 0. 0. 0. 1. 1. 0. 0. 0. 0. 0. 1.]\n",
      " [0. 0. 0. 0. 0. 0. 1. 0. 0. 0. 0. 1. 0.]\n",
      " [0. 1. 1. 0. 1. 1. 1. 1. 0. 0. 1. 0. 0.]\n",
      " [1. 0. 0. 0. 0. 1. 1. 1. 1. 1. 0. 0. 0.]\n",
      " [0. 0. 1. 0. 1. 0. 0. 1. 1. 1. 0. 1. 0.]\n",
      " [0. 0. 0. 0. 1. 1. 1. 0. 0. 0. 1. 1. 0.]\n",
      " [0. 0. 0. 0. 0. 0. 1. 0. 0. 0. 0. 1. 0.]\n",
      " [0. 1. 0. 0. 0. 1. 0. 0. 0. 0. 0. 0. 1.]]\n"
     ]
    }
   ],
   "source": [
    "import numpy as np\n",
    "n = 13\n",
    "graph = np.loadtxt('inp.txt', usecols=range(n))\n",
    "print(graph)"
   ]
  },
  {
   "cell_type": "code",
   "execution_count": 39,
   "metadata": {},
   "outputs": [
    {
     "data": {
      "text/plain": [
       "(13, 1)"
      ]
     },
     "execution_count": 39,
     "metadata": {},
     "output_type": "execute_result"
    }
   ],
   "source": [
    "def ism(adj_matrix, alpha=0.85, max_iter=100, tol=1e-6):\n",
    "    n = adj_matrix.shape[0]\n",
    "    v = np.ones((n,1))/n\n",
    "\n",
    "    for i in range(max_iter):\n",
    "        last_v = v\n",
    "        v = alpha * np.matmul(adj_matrix, v) + (1-alpha)* np.ones((n,1))/n\n",
    "        if np.linalg.norm(v-last_v) < tol:\n",
    "            break\n",
    "    return v\n",
    "\n",
    "final = ism(graph)\n",
    "final.shape"
   ]
  },
  {
   "cell_type": "code",
   "execution_count": 40,
   "metadata": {},
   "outputs": [
    {
     "data": {
      "text/plain": [
       "13"
      ]
     },
     "execution_count": 40,
     "metadata": {},
     "output_type": "execute_result"
    }
   ],
   "source": [
    "def transitiveClosure(graph, n):\n",
    "        reach =[i[:] for i in graph]\n",
    "        for k in range(n):\n",
    "            for i in range(n):\n",
    "                for j in range(n):\n",
    "                    reach[i][j] = reach[i][j] or (reach[i][k] and reach[k][j])\n",
    "        return reach\n",
    "\n",
    "final = transitiveClosure(graph, n)\n",
    "len(final)"
   ]
  },
  {
   "cell_type": "markdown",
   "metadata": {},
   "source": [
    "### New start I\n",
    "Build reachability matrix from influence matrix"
   ]
  },
  {
   "cell_type": "code",
   "execution_count": 41,
   "metadata": {},
   "outputs": [
    {
     "name": "stdout",
     "output_type": "stream",
     "text": [
      "Final Reachability Matrix:\n",
      "[[0.81216519 0.81112107 0.84723881 0.81412014 0.8095032 ]\n",
      " [0.95860244 0.95737006 1.         0.96090988 0.95546048]\n",
      " [0.88321781 0.88208235 0.92135987 0.88534379 0.88032294]\n",
      " [0.92951545 0.92832047 0.96965688 0.93175288 0.92646883]\n",
      " [0.87219028 0.87106899 0.90985611 0.87428972 0.86933155]]\n",
      "Final Reachability Matrix:\n",
      "[[1 1 1 1 1]\n",
      " [1 1 1 1 1]\n",
      " [1 1 1 1 1]\n",
      " [1 1 1 1 1]\n",
      " [1 1 1 1 1]]\n"
     ]
    }
   ],
   "source": [
    "import numpy as np\n",
    "\n",
    "# Define the factors and the initial influence matrix\n",
    "factors = [\n",
    "    \"Energy Efficiency\", \"Water Management\", \"Waste Reduction\",\n",
    "    \"Renewable Energy Adoption\", \"Emission Control\"\n",
    "]\n",
    "\n",
    "# Hypothetical influence matrix\n",
    "matrix = np.array([\n",
    "    [0, 0.6, 0.3, 0.5, 0.2],  # Energy Efficiency\n",
    "    [0.4, 0, 0.7, 0.3, 0.6],  # Water Management\n",
    "    [0.5, 0.4, 0, 0.6, 0.3],  # Waste Reduction\n",
    "    [0.3, 0.5, 0.4, 0, 0.7],  # Renewable Energy Adoption\n",
    "    [0.6, 0.3, 0.5, 0.4, 0]   # Emission Control\n",
    "])\n",
    "\n",
    "# Step 1: Normalize the matrix\n",
    "normalized_matrix = matrix / np.max(matrix)\n",
    "\n",
    "# Step 2: Initialize the reachability matrix\n",
    "reachability_matrix = normalized_matrix.copy()\n",
    "\n",
    "# Step 3: Compute the reachability matrix through iteration\n",
    "max_iterations = 100  # Allow for more iterations for convergence\n",
    "tolerance = 1e-6  # Convergence tolerance\n",
    "for _ in range(max_iterations):\n",
    "    # Perform matrix multiplication to get indirect reachability\n",
    "    reachability_matrix_new = np.dot(reachability_matrix, normalized_matrix)\n",
    "\n",
    "    # Add the new reachability to the existing one (union of direct and indirect influences)\n",
    "    reachability_matrix_new = np.maximum(reachability_matrix, reachability_matrix_new)\n",
    "\n",
    "    # Check if the matrix has converged (i.e., no significant changes between iterations)\n",
    "    if np.allclose(reachability_matrix, reachability_matrix_new, atol=tolerance):\n",
    "        print(f\"Converged after {_+1} iterations.\")\n",
    "        break\n",
    "\n",
    "    # Update reachability matrix for the next iteration\n",
    "    reachability_matrix = reachability_matrix_new\n",
    "\n",
    "# Step 4a: Normalize the reachability matrix to keep values within the range [0, 1]\n",
    "reachability_matrix_normalized = reachability_matrix / np.max(reachability_matrix)\n",
    "\n",
    "# Step 5a: Display the final reachability matrix\n",
    "print(\"Final Reachability Matrix:\")\n",
    "print(reachability_matrix_normalized)\n",
    "\n",
    "# Step 4b: Create the binary reachability matrix (thresholding)\n",
    "binary_reachability_matrix = (reachability_matrix_normalized > 0).astype(int)\n",
    "\n",
    "# Step 5b: Display the final reachability matrix\n",
    "print(\"Final Reachability Matrix:\")\n",
    "print(binary_reachability_matrix)"
   ]
  },
  {
   "cell_type": "code",
   "execution_count": 42,
   "metadata": {},
   "outputs": [
    {
     "name": "stdout",
     "output_type": "stream",
     "text": [
      "Final Reachability Matrix:\n",
      "[[1 1 1 1 1]\n",
      " [1 1 1 1 1]\n",
      " [1 1 1 1 1]\n",
      " [1 1 1 1 1]\n",
      " [1 1 1 1 1]]\n"
     ]
    }
   ],
   "source": [
    "import numpy as np\n",
    "\n",
    "# Define the factors and the initial influence matrix\n",
    "factors = [\n",
    "    \"Energy Efficiency\", \"Water Management\", \"Waste Reduction\",\n",
    "    \"Renewable Energy Adoption\", \"Emission Control\"\n",
    "]\n",
    "\n",
    "# Hypothetical influence matrix\n",
    "matrix = np.array([\n",
    "    [0, 0.6, 0.3, 0.5, 0.2],  # Energy Efficiency\n",
    "    [0.4, 0, 0.7, 0.3, 0 ],  # Water Management\n",
    "    [0 , 0.4, 0, 0.6, 0.3],  # Waste Reduction\n",
    "    [0.3, 0.5, 0,  0, 0.7],  # Renewable Energy Adoption\n",
    "    [0.6, 0.3, 0.5, 0.4, 0]   # Emission Control\n",
    "])\n",
    "\n",
    "# Step 1: Normalize the matrix\n",
    "normalized_matrix = matrix / np.max(matrix)\n",
    "\n",
    "# Step 2: Initialize the reachability matrix\n",
    "reachability_matrix = normalized_matrix.copy()\n",
    "\n",
    "# Step 3: Compute the reachability matrix through iteration\n",
    "max_iterations = 100  # Allow for more iterations for convergence\n",
    "tolerance = 1e-6  # Convergence tolerance\n",
    "for _ in range(max_iterations):\n",
    "    # Perform matrix multiplication to get indirect reachability\n",
    "    reachability_matrix_new = np.dot(reachability_matrix, normalized_matrix)\n",
    "\n",
    "    # Add the new reachability to the existing one (union of direct and indirect influences)\n",
    "    reachability_matrix_new = np.maximum(reachability_matrix, reachability_matrix_new)\n",
    "\n",
    "    # Check if the matrix has converged (i.e., no significant changes between iterations)\n",
    "    if np.allclose(reachability_matrix, reachability_matrix_new, atol=tolerance):\n",
    "        print(f\"Converged after {_+1} iterations.\")\n",
    "        break\n",
    "\n",
    "    # Update reachability matrix for the next iteration\n",
    "    reachability_matrix = reachability_matrix_new\n",
    "\n",
    "# Step 4: Normalize the reachability matrix to keep values within the range [0, 1]\n",
    "reachability_matrix_normalized = reachability_matrix / np.max(reachability_matrix)\n",
    "\n",
    "# Step 5: Create the binary reachability matrix (thresholding)\n",
    "binary_reachability_matrix = (reachability_matrix_normalized > 0).astype(int)\n",
    "\n",
    "# Step 6: Display the final reachability matrix\n",
    "print(\"Final Reachability Matrix:\")\n",
    "print(binary_reachability_matrix)"
   ]
  },
  {
   "cell_type": "code",
   "execution_count": 43,
   "metadata": {},
   "outputs": [
    {
     "ename": "KeyboardInterrupt",
     "evalue": "",
     "output_type": "error",
     "traceback": [
      "\u001b[1;31m---------------------------------------------------------------------------\u001b[0m",
      "\u001b[1;31mKeyboardInterrupt\u001b[0m                         Traceback (most recent call last)",
      "Cell \u001b[1;32mIn[43], line 42\u001b[0m\n\u001b[0;32m     39\u001b[0m     \u001b[38;5;28;01mreturn\u001b[39;00m factors_levels\n\u001b[0;32m     41\u001b[0m \u001b[38;5;66;03m# Step 4: Get the hierarchical levels of factors\u001b[39;00m\n\u001b[1;32m---> 42\u001b[0m levels \u001b[38;5;241m=\u001b[39m \u001b[43mpartition_hierarchy\u001b[49m\u001b[43m(\u001b[49m\u001b[43mreachability_closure\u001b[49m\u001b[43m)\u001b[49m\n\u001b[0;32m     44\u001b[0m \u001b[38;5;66;03m# Step 5: Display results\u001b[39;00m\n\u001b[0;32m     45\u001b[0m \u001b[38;5;28mprint\u001b[39m(\u001b[38;5;124m\"\u001b[39m\u001b[38;5;124mHierarchical Levels of Factors (Partitioning Method):\u001b[39m\u001b[38;5;124m\"\u001b[39m)\n",
      "Cell \u001b[1;32mIn[43], line 32\u001b[0m, in \u001b[0;36mpartition_hierarchy\u001b[1;34m(matrix)\u001b[0m\n\u001b[0;32m     30\u001b[0m     reach_set, ante_set \u001b[38;5;241m=\u001b[39m get_sets(matrix, i)\n\u001b[0;32m     31\u001b[0m     \u001b[38;5;66;03m# Intersection of reachability and antecedence sets gives the factor's level\u001b[39;00m\n\u001b[1;32m---> 32\u001b[0m     \u001b[38;5;28;01mif\u001b[39;00m \u001b[38;5;129;01mnot\u001b[39;00m \u001b[43mreach_set\u001b[49m\u001b[38;5;241;43m.\u001b[39;49m\u001b[43mdifference\u001b[49m\u001b[43m(\u001b[49m\u001b[43mante_set\u001b[49m\u001b[43m)\u001b[49m:  \u001b[38;5;66;03m# if reach_set is a subset of ante_set\u001b[39;00m\n\u001b[0;32m     33\u001b[0m         level\u001b[38;5;241m.\u001b[39mappend(i)\n\u001b[0;32m     35\u001b[0m \u001b[38;5;66;03m# Remove the classified factors from the remaining set\u001b[39;00m\n",
      "\u001b[1;31mKeyboardInterrupt\u001b[0m: "
     ]
    }
   ],
   "source": [
    "import numpy as np\n",
    "import matplotlib.pyplot as plt\n",
    "\n",
    "# Step 1: Define factors and reachability matrix (transitive closure)\n",
    "factors = ['A', 'B', 'C', 'D', 'E']\n",
    "reachability_closure = np.array([\n",
    "    [1, 1, 1, 1, 1],  # A influences B, C, D, E\n",
    "    [1, 1, 1, 1, 1],  # B influences C, D, E\n",
    "    [0, 1, 1, 1, 1],  # C influences D, E\n",
    "    [0, 0, 1, 1, 1],  # D influences E\n",
    "    [0, 0, 0, 0, 1]   # E influences only itself\n",
    "])\n",
    "\n",
    "# Step 2: Function to find reachability and antecedence sets for each factor\n",
    "def get_sets(matrix, index):\n",
    "    reachability_set = set(np.where(matrix[index, :] == 1)[0])  # Columns where reachability is 1\n",
    "    antecedence_set = set(np.where(matrix[:, index] == 1)[0])  # Rows where antecedence is 1\n",
    "    return reachability_set, antecedence_set\n",
    "\n",
    "# Step 3: Partition factors into levels based on the intersection of reachability and antecedence sets\n",
    "def partition_hierarchy(matrix):\n",
    "    n = len(matrix)\n",
    "    factors_levels = []\n",
    "    remaining_factors = set(range(n))\n",
    "\n",
    "    while remaining_factors:\n",
    "        level = []\n",
    "        for i in remaining_factors:\n",
    "            # Get reachability and antecedence sets\n",
    "            reach_set, ante_set = get_sets(matrix, i)\n",
    "            # Intersection of reachability and antecedence sets gives the factor's level\n",
    "            if not reach_set.difference(ante_set):  # if reach_set is a subset of ante_set\n",
    "                level.append(i)\n",
    "\n",
    "        # Remove the classified factors from the remaining set\n",
    "        remaining_factors -= set(level)\n",
    "        factors_levels.append(level)\n",
    "\n",
    "    return factors_levels\n",
    "\n",
    "# Step 4: Get the hierarchical levels of factors\n",
    "levels = partition_hierarchy(reachability_closure)\n",
    "\n",
    "# Step 5: Display results\n",
    "print(\"Hierarchical Levels of Factors (Partitioning Method):\")\n",
    "for level, factors_in_level in enumerate(levels, start=1):\n",
    "    print(f\"Level {level}: {[factors[i] for i in factors_in_level]}\")\n",
    "\n",
    "# Step 6: Visualize the hierarchy using a simple plot\n",
    "import networkx as nx\n",
    "\n",
    "# Create a directed graph to visualize the hierarchy\n",
    "G = nx.DiGraph()\n",
    "\n",
    "# Add nodes and edges based on the reachability matrix\n",
    "for i in range(len(reachability_closure)):\n",
    "    for j in range(len(reachability_closure)):\n",
    "        if reachability_closure[i, j] == 1:\n",
    "            G.add_edge(factors[i], factors[j])\n",
    "\n",
    "# Plot the graph\n",
    "plt.figure(figsize=(8, 6))\n",
    "pos = nx.spring_layout(G, seed=42)  # Layout for visualization\n",
    "nx.draw(G, pos, with_labels=True, node_size=3000, node_color=\"lightblue\", font_size=12, font_weight=\"bold\")\n",
    "plt.title(\"ISM Hierarchy Graph\")\n",
    "plt.show()"
   ]
  },
  {
   "cell_type": "code",
   "execution_count": null,
   "metadata": {},
   "outputs": [],
   "source": [
    "pip install networkx"
   ]
  },
  {
   "cell_type": "code",
   "execution_count": 5,
   "metadata": {},
   "outputs": [
    {
     "name": "stdout",
     "output_type": "stream",
     "text": [
      "Influence Matrix:\n",
      "[[1 1 0 0 0]\n",
      " [1 1 1 0 0]\n",
      " [0 1 1 1 0]\n",
      " [0 0 1 1 1]\n",
      " [0 0 0 0 1]]\n",
      "\n",
      "Reachability Matrix (Transitive Closure):\n",
      "[[1 1 1 1 1]\n",
      " [1 1 1 1 1]\n",
      " [1 1 1 1 1]\n",
      " [1 1 1 1 1]\n",
      " [0 0 0 0 1]]\n",
      "\n",
      "Factor Levels (from most influential to least influential):\n",
      "A: Level 5\n",
      "B: Level 5\n",
      "C: Level 5\n",
      "D: Level 5\n",
      "E: Level 1\n"
     ]
    },
    {
     "ename": "NetworkXError",
     "evalue": "all nodes need a subset_key attribute: <function <lambda> at 0x0000022A3B7D5580>",
     "output_type": "error",
     "traceback": [
      "\u001b[1;31m---------------------------------------------------------------------------\u001b[0m",
      "\u001b[1;31mAttributeError\u001b[0m                            Traceback (most recent call last)",
      "File \u001b[1;32mc:\\Users\\user\\AppData\\Local\\Programs\\Python\\Python313\\Lib\\site-packages\\networkx\\drawing\\layout.py:1087\u001b[0m, in \u001b[0;36mmultipartite_layout\u001b[1;34m(G, subset_key, align, scale, center)\u001b[0m\n\u001b[0;32m   1085\u001b[0m \u001b[38;5;28;01mtry\u001b[39;00m:\n\u001b[0;32m   1086\u001b[0m     \u001b[38;5;66;03m# check if subset_key is dict-like\u001b[39;00m\n\u001b[1;32m-> 1087\u001b[0m     \u001b[38;5;28;01mif\u001b[39;00m \u001b[38;5;28mlen\u001b[39m(G) \u001b[38;5;241m!=\u001b[39m \u001b[38;5;28msum\u001b[39m(\u001b[38;5;28mlen\u001b[39m(nodes) \u001b[38;5;28;01mfor\u001b[39;00m nodes \u001b[38;5;129;01min\u001b[39;00m \u001b[43msubset_key\u001b[49m\u001b[38;5;241;43m.\u001b[39;49m\u001b[43mvalues\u001b[49m()):\n\u001b[0;32m   1088\u001b[0m         \u001b[38;5;28;01mraise\u001b[39;00m nx\u001b[38;5;241m.\u001b[39mNetworkXError(\n\u001b[0;32m   1089\u001b[0m             \u001b[38;5;124m\"\u001b[39m\u001b[38;5;124mall nodes must be in one subset of `subset_key` dict\u001b[39m\u001b[38;5;124m\"\u001b[39m\n\u001b[0;32m   1090\u001b[0m         )\n",
      "\u001b[1;31mAttributeError\u001b[0m: 'function' object has no attribute 'values'",
      "\nDuring handling of the above exception, another exception occurred:\n",
      "\u001b[1;31mNetworkXError\u001b[0m                             Traceback (most recent call last)",
      "Cell \u001b[1;32mIn[5], line 66\u001b[0m\n\u001b[0;32m     64\u001b[0m \u001b[38;5;66;03m# Plot the graph\u001b[39;00m\n\u001b[0;32m     65\u001b[0m plt\u001b[38;5;241m.\u001b[39mfigure(figsize\u001b[38;5;241m=\u001b[39m(\u001b[38;5;241m8\u001b[39m, \u001b[38;5;241m6\u001b[39m))\n\u001b[1;32m---> 66\u001b[0m pos \u001b[38;5;241m=\u001b[39m \u001b[43mnx\u001b[49m\u001b[38;5;241;43m.\u001b[39;49m\u001b[43mmultipartite_layout\u001b[49m\u001b[43m(\u001b[49m\u001b[43mG\u001b[49m\u001b[43m,\u001b[49m\u001b[43m \u001b[49m\u001b[43msubset_key\u001b[49m\u001b[38;5;241;43m=\u001b[39;49m\u001b[38;5;28;43;01mlambda\u001b[39;49;00m\u001b[43m \u001b[49m\u001b[43mn\u001b[49m\u001b[43m:\u001b[49m\u001b[43m \u001b[49m\u001b[43mG\u001b[49m\u001b[38;5;241;43m.\u001b[39;49m\u001b[43mnodes\u001b[49m\u001b[43m[\u001b[49m\u001b[43mn\u001b[49m\u001b[43m]\u001b[49m\u001b[43m[\u001b[49m\u001b[38;5;124;43m'\u001b[39;49m\u001b[38;5;124;43mlevel\u001b[39;49m\u001b[38;5;124;43m'\u001b[39;49m\u001b[43m]\u001b[49m\u001b[43m \u001b[49m\u001b[38;5;28;43;01mif\u001b[39;49;00m\u001b[43m \u001b[49m\u001b[38;5;124;43m'\u001b[39;49m\u001b[38;5;124;43mlevel\u001b[39;49m\u001b[38;5;124;43m'\u001b[39;49m\u001b[43m \u001b[49m\u001b[38;5;129;43;01min\u001b[39;49;00m\u001b[43m \u001b[49m\u001b[43mG\u001b[49m\u001b[38;5;241;43m.\u001b[39;49m\u001b[43mnodes\u001b[49m\u001b[43m[\u001b[49m\u001b[43mn\u001b[49m\u001b[43m]\u001b[49m\u001b[43m \u001b[49m\u001b[38;5;28;43;01melse\u001b[39;49;00m\u001b[43m \u001b[49m\u001b[38;5;241;43m0\u001b[39;49m\u001b[43m)\u001b[49m  \u001b[38;5;66;03m# Layout for visualization\u001b[39;00m\n\u001b[0;32m     67\u001b[0m nx\u001b[38;5;241m.\u001b[39mdraw(G, pos, with_labels\u001b[38;5;241m=\u001b[39m\u001b[38;5;28;01mTrue\u001b[39;00m, node_size\u001b[38;5;241m=\u001b[39m\u001b[38;5;241m3000\u001b[39m, node_color\u001b[38;5;241m=\u001b[39m\u001b[38;5;124m\"\u001b[39m\u001b[38;5;124mskyblue\u001b[39m\u001b[38;5;124m\"\u001b[39m, font_size\u001b[38;5;241m=\u001b[39m\u001b[38;5;241m12\u001b[39m, font_weight\u001b[38;5;241m=\u001b[39m\u001b[38;5;124m\"\u001b[39m\u001b[38;5;124mbold\u001b[39m\u001b[38;5;124m\"\u001b[39m)\n\u001b[0;32m     68\u001b[0m plt\u001b[38;5;241m.\u001b[39mtitle(\u001b[38;5;124m\"\u001b[39m\u001b[38;5;124mISM Graph Representation\u001b[39m\u001b[38;5;124m\"\u001b[39m)\n",
      "File \u001b[1;32mc:\\Users\\user\\AppData\\Local\\Programs\\Python\\Python313\\Lib\\site-packages\\networkx\\drawing\\layout.py:1095\u001b[0m, in \u001b[0;36mmultipartite_layout\u001b[1;34m(G, subset_key, align, scale, center)\u001b[0m\n\u001b[0;32m   1093\u001b[0m     node_to_subset \u001b[38;5;241m=\u001b[39m nx\u001b[38;5;241m.\u001b[39mget_node_attributes(G, subset_key)\n\u001b[0;32m   1094\u001b[0m     \u001b[38;5;28;01mif\u001b[39;00m \u001b[38;5;28mlen\u001b[39m(node_to_subset) \u001b[38;5;241m!=\u001b[39m \u001b[38;5;28mlen\u001b[39m(G):\n\u001b[1;32m-> 1095\u001b[0m         \u001b[38;5;28;01mraise\u001b[39;00m nx\u001b[38;5;241m.\u001b[39mNetworkXError(\n\u001b[0;32m   1096\u001b[0m             \u001b[38;5;124mf\u001b[39m\u001b[38;5;124m\"\u001b[39m\u001b[38;5;124mall nodes need a subset_key attribute: \u001b[39m\u001b[38;5;132;01m{\u001b[39;00msubset_key\u001b[38;5;132;01m}\u001b[39;00m\u001b[38;5;124m\"\u001b[39m\n\u001b[0;32m   1097\u001b[0m         )\n\u001b[0;32m   1098\u001b[0m     subset_key \u001b[38;5;241m=\u001b[39m nx\u001b[38;5;241m.\u001b[39mutils\u001b[38;5;241m.\u001b[39mgroups(node_to_subset)\n\u001b[0;32m   1100\u001b[0m \u001b[38;5;66;03m# Sort by layer, if possible\u001b[39;00m\n",
      "\u001b[1;31mNetworkXError\u001b[0m: all nodes need a subset_key attribute: <function <lambda> at 0x0000022A3B7D5580>"
     ]
    },
    {
     "data": {
      "text/plain": [
       "<Figure size 800x600 with 0 Axes>"
      ]
     },
     "metadata": {},
     "output_type": "display_data"
    }
   ],
   "source": [
    "import numpy as np\n",
    "import matplotlib.pyplot as plt\n",
    "import networkx as nx\n",
    "\n",
    "# Step 1: Define factors and reachability matrix\n",
    "factors = ['A', 'B', 'C', 'D', 'E']\n",
    "# The influence matrix where 1 indicates influence and 0 indicates no influence.\n",
    "reachability_matrix = np.array([\n",
    "    [1, 1, 0, 0, 0],  # A influences B\n",
    "    [1, 1, 1, 0, 0],  # B influences C (,A)\n",
    "    [0, 1, 1, 1, 0],  # C influences D (, B)\n",
    "    [0, 0, 1, 1, 1],  # D influences E\n",
    "    [0, 0, 0, 0, 1]   # E is independent in this case\n",
    "])\n",
    "\n",
    "# Step 2: Calculate transitive closure (Iterative approach)\n",
    "def calculate_transitive_closure(matrix):\n",
    "    n = matrix.shape[0]\n",
    "    reachability = matrix.copy()  # Start with the original reachability matrix\n",
    "\n",
    "    # Warshall's algorithm (iterative process to find the transitive closure)\n",
    "    for k in range(n):\n",
    "        for i in range(n):\n",
    "            for j in range(n):\n",
    "                # If i can reach k and k can reach j, then i can reach j\n",
    "                reachability[i, j] = reachability[i, j] or (reachability[i, k] and reachability[k, j])\n",
    "\n",
    "    return reachability\n",
    "\n",
    "# Calculate the transitive closure of the reachability matrix\n",
    "reachability_closure = calculate_transitive_closure(reachability_matrix)\n",
    "\n",
    "# Step 3: Classify factors into levels (using reachability closure)\n",
    "def classify_levels(reachability_closure):\n",
    "    levels = {}\n",
    "    for i in range(len(reachability_closure)):\n",
    "        reachable = reachability_closure[i, :]\n",
    "        levels[i] = np.sum(reachable)  # Sum of reachable factors\n",
    "    return sorted(levels.items(), key=lambda x: x[1], reverse=True)\n",
    "\n",
    "# Classify factors based on their reachability\n",
    "levels = classify_levels(reachability_closure)\n",
    "\n",
    "\n",
    "# Step 4: Display the results\n",
    "print(\"Influence Matrix:\")\n",
    "print(reachability_matrix)\n",
    "print(\"\\nReachability Matrix (Transitive Closure):\")\n",
    "print(reachability_closure)\n",
    "print(\"\\nFactor Levels (from most influential to least influential):\")\n",
    "\n",
    "for factor, level in levels:\n",
    "    print(f\"{factors[factor]}: Level {level}\")\n",
    "\n",
    "# Step 5: Visualize the hierarchical structure using a graph\n",
    "G = nx.DiGraph()\n",
    "\n",
    "# Add edges based on the reachability matrix\n",
    "for i in range(len(reachability_matrix)):\n",
    "    for j in range(len(reachability_matrix)):\n",
    "        if reachability_matrix[i, j] == 1:\n",
    "            G.add_edge(factors[i], factors[j])\n",
    "\n",
    "# Plot the graph\n",
    "plt.figure(figsize=(8, 6))\n",
    "pos = nx.multipartite_layout(G, subset_key=lambda n: G.nodes[n]['level'] if 'level' in G.nodes[n] else 0)  # Layout for visualization\n",
    "nx.draw(G, pos, with_labels=True, node_size=3000, node_color=\"skyblue\", font_size=12, font_weight=\"bold\")\n",
    "plt.title(\"ISM Graph Representation\")\n",
    "plt.show()"
   ]
  },
  {
   "cell_type": "markdown",
   "metadata": {},
   "source": [
    "ML to build the reachability matrix"
   ]
  },
  {
   "cell_type": "code",
   "execution_count": null,
   "metadata": {},
   "outputs": [],
   "source": [
    "import numpy as np\n",
    "from sklearn.neural_network import MLPClassifier\n",
    "import matplotlib.pyplot as plt\n",
    "\n",
    "# Define the factors\n",
    "factors = ['A', 'B', 'C', 'D', 'E']\n",
    "\n",
    "# Example input data X (features for each factor)\n",
    "# Rows are factors; columns represent some numerical features of each factor\n",
    "X = np.array([\n",
    "    [0.2, 0.1, 0.4, 0.5, 0.7, 0.3],  # Features for Factor A\n",
    "    [0.3, 0.2, 0.4, 0.6, 0.2, 0.1],  # Features for Factor B\n",
    "    [0.1, 0.3, 0.5, 0.4, 0.5, 0.9],  # Features for Factor C\n",
    "    [0.4, 0.2, 0.3, 0.7, 0.2, 0.3],  # Features for Factor D\n",
    "    [0.5, 0.3, 0.2, 0.6, 0.1, 0.4]   # Features for Factor E\n",
    "])\n",
    "\n",
    "# Target influence matrix (5x5), where y[i, j] = 1 means Factor i influences Factor j\n",
    "y = np.array([\n",
    "    [1, 1, 1, 0, 0],  # A influences A, B, C but not D, E\n",
    "    [1, 1, 0, 1, 0],  # B influences A, B, D\n",
    "    [0, 1, 1, 1, 0],  # C influences B, C, D\n",
    "    [0, 0, 1, 1, 1],  # D influences C, D, E\n",
    "    [1, 0, 1, 0, 1]   # E influences A, C, E\n",
    "])\n",
    "\n",
    "# Train a neural network (MLP classifier) to predict influence between factors\n",
    "clf = MLPClassifier(hidden_layer_sizes=(10, 10), max_iter=1000)\n",
    "clf.fit(X, y)\n",
    "\n",
    "# Predict the reachability matrix (5x5)\n",
    "predicted_matrix = clf.predict(X)\n",
    "print(\"Predicted Reachability Matrix (using Neural Network):\")\n",
    "print(predicted_matrix)\n",
    "\n",
    "def calculate_levels(reachability_matrix):\n",
    "    levels = []\n",
    "    remaining_factors = set(range(len(reachability_matrix)))  # All factors initially\n",
    "\n",
    "    while remaining_factors:\n",
    "        level = set()\n",
    "\n",
    "        for factor in remaining_factors:\n",
    "            # If the factor influences no other factors or is not influenced by others, it's in the current level\n",
    "            influenced_factors = set(np.where(reachability_matrix[factor] == 1)[0])\n",
    "            if influenced_factors.issubset(remaining_factors):\n",
    "                level.add(factor)\n",
    "\n",
    "        levels.append(level)\n",
    "        remaining_factors -= level\n",
    "\n",
    "    return levels\n",
    "\n",
    "# Calculate levels based on the reachability matrix\n",
    "levels = calculate_levels(predicted_matrix)\n",
    "print(\"\\nFactor Levels (from ISM):\")\n",
    "for i, level in enumerate(levels):\n",
    "    print(f\"Level {i+1}: {[factors[i] for i in level]}\")\n",
    "\n",
    "# Plot the hierarchical structure using matplotlib\n",
    "import networkx as nx\n",
    "\n",
    "# Create a directed graph to visualize the hierarchy\n",
    "G = nx.DiGraph()\n",
    "\n",
    "# Add nodes (factors)\n",
    "G.add_nodes_from(factors)\n",
    "\n",
    "# Add edges based on the predicted reachability matrix\n",
    "for i in range(len(factors)):\n",
    "    for j in range(len(factors)):\n",
    "        if predicted_matrix[i][j] == 1:\n",
    "            G.add_edge(factors[i], factors[j])\n",
    "\n",
    "# Plot the graph\n",
    "pos = nx.spring_layout(G, seed=42)\n",
    "plt.figure(figsize=(8, 6))\n",
    "nx.draw(G, pos, with_labels=True, node_size=2000, node_color=\"lightblue\", font_size=12, font_weight=\"bold\", arrows=True)\n",
    "plt.title(\"Hierarchical Structure Using Neural Networks in ISM\")\n",
    "plt.show()"
   ]
  },
  {
   "cell_type": "code",
   "execution_count": 32,
   "metadata": {},
   "outputs": [],
   "source": [
    "import numpy as np\n",
    "import networkx as nx\n",
    "import matplotlib.pyplot as plt\n",
    "\n",
    "stakeholder_1_ssim = np.array([\n",
    "    [0, 1, 0],\n",
    "    [0, 0, 1],\n",
    "    [1, 0, 0]\n",
    "])\n",
    "\n",
    "stakeholder_2_ssim = np.array([\n",
    "    [0, 1, 1],\n",
    "    [0, 0, 0],\n",
    "    [1, 1, 0]\n",
    "])\n",
    "\n",
    "# Consolidate into a list for AdISM\n",
    "stakeholder_inputs = [stakeholder_1_ssim, stakeholder_2_ssim]\n"
   ]
  },
  {
   "cell_type": "code",
   "execution_count": 33,
   "metadata": {},
   "outputs": [],
   "source": [
    "# Step 2: Function to compute agreement and conflict matrices\n",
    "def compute_agreement_conflict(stakeholder_inputs):\n",
    "    n_stakeholders = len(stakeholder_inputs)\n",
    "    combined_matrix = sum(stakeholder_inputs)  # Sum across matrices\n",
    "    agreement_matrix = (combined_matrix == n_stakeholders).astype(int)\n",
    "    conflict_matrix = ((combined_matrix > 0) & (combined_matrix < n_stakeholders)).astype(int)\n",
    "    return agreement_matrix, conflict_matrix\n",
    "\n",
    "# Step 3: Generate reachability matrix\n",
    "def reachability_matrix(ssim):\n",
    "    \"\"\"Convert SSIM into a binary reachability matrix.\"\"\"\n",
    "    n = len(ssim)\n",
    "    reachability = np.linalg.matrix_power(ssim, n) > 0\n",
    "    return reachability.astype(int)\n",
    "\n",
    "# Step 4: Compute agreement and conflict for AdISM\n",
    "agreement_matrix, conflict_matrix = compute_agreement_conflict(stakeholder_inputs)"
   ]
  },
  {
   "cell_type": "code",
   "execution_count": 34,
   "metadata": {},
   "outputs": [
    {
     "data": {
      "image/png": "[encoded data removed]",
      "text/plain": [
       "<Figure size 640x480 with 2 Axes>"
      ]
     },
     "metadata": {},
     "output_type": "display_data"
    },
    {
     "data": {
      "image/png": "[encoded data removed]",
      "text/plain": [
       "<Figure size 640x480 with 2 Axes>"
      ]
     },
     "metadata": {},
     "output_type": "display_data"
    }
   ],
   "source": [
    "# Step 5: Visualize agreement and conflict\n",
    "def visualize_matrix(matrix, title=\"Matrix\"):\n",
    "    plt.imshow(matrix, cmap=\"Blues\", interpolation=\"none\")\n",
    "    plt.colorbar(label=\"Value\")\n",
    "    plt.title(title)\n",
    "    plt.show()\n",
    "\n",
    "visualize_matrix(agreement_matrix, title=\"Agreement Matrix\")\n",
    "visualize_matrix(conflict_matrix, title=\"Conflict Matrix\")"
   ]
  },
  {
   "cell_type": "code",
   "execution_count": 35,
   "metadata": {},
   "outputs": [
    {
     "name": "stdout",
     "output_type": "stream",
     "text": [
      "Hierarchical Levels:\n",
      " [[0, 1, 2]]\n"
     ]
    }
   ],
   "source": [
    "# Step 6: Hierarchical partitioning (simplified)\n",
    "def partition_hierarchy(reachability):\n",
    "    levels = []\n",
    "    remaining_elements = set(range(len(reachability)))\n",
    "    while remaining_elements:\n",
    "        current_level = []\n",
    "        for i in remaining_elements:\n",
    "            if all(reachability[i, j] == 0 for j in remaining_elements if i != j):\n",
    "                current_level.append(i)\n",
    "        levels.append(current_level)\n",
    "        remaining_elements -= set(current_level)\n",
    "    return levels\n",
    "\n",
    "# Generate reachability matrix for agreement\n",
    "agreement_reachability = reachability_matrix(agreement_matrix)\n",
    "\n",
    "# Partition hierarchy\n",
    "hierarchy_levels = partition_hierarchy(agreement_reachability)\n",
    "\n",
    "print(\"Hierarchical Levels:\\n\", hierarchy_levels)"
   ]
  },
  {
   "cell_type": "code",
   "execution_count": 36,
   "metadata": {},
   "outputs": [
    {
     "data": {
      "image/png": "[encoded data removed]",
      "text/plain": [
       "<Figure size 800x700 with 1 Axes>"
      ]
     },
     "metadata": {},
     "output_type": "display_data"
    }
   ],
   "source": [
    "def visualize_hierarchy(hierarchy, title=\"Hierarchy\"):\n",
    "    G = nx.DiGraph()\n",
    "\n",
    "    # Add nodes and edges based on hierarchy levels\n",
    "    for i, level in enumerate(hierarchy):\n",
    "        for node in level:\n",
    "            G.add_node(node, level=i)  # Set 'level' attribute for each node\n",
    "            if i + 1 < len(hierarchy):  # Ensure there is a next level\n",
    "                for next_node in hierarchy[i + 1]:\n",
    "                    G.add_edge(node, next_node)  # Create edges between levels\n",
    "\n",
    "    # Get positions using a more general layout (e.g., spring_layout or shell_layout)\n",
    "    pos = nx.spring_layout(G)  # Simple layout (works for most cases)\n",
    "\n",
    "    # Draw the graph\n",
    "    plt.figure(figsize=(8, 7))\n",
    "    nx.draw(G, pos, with_labels=True, node_size=2000, node_color=\"skyblue\", font_size=10, edge_color=\"gray\")\n",
    "    plt.title(title)\n",
    "    plt.show()\n",
    "\n",
    "# Visualize the hierarchy\n",
    "visualize_hierarchy(hierarchy_levels, title=\"AdISM Hierarchy\")"
   ]
  },
  {
   "cell_type": "code",
   "execution_count": 37,
   "metadata": {},
   "outputs": [],
   "source": [
    "import numpy as np\n",
    "\n",
    "# Example: Input from 3 Experts\n",
    "expert1 = np.array([\n",
    "    [0, 1, 0],\n",
    "    [0, 0, 1],\n",
    "    [1, 0, 0]\n",
    "])\n",
    "\n",
    "expert2 = np.array([\n",
    "    [0, 1, 1],\n",
    "    [0, 0, 1],\n",
    "    [1, 0, 0]\n",
    "])\n",
    "\n",
    "expert3 = np.array([\n",
    "    [0, 0, 0],\n",
    "    [0, 0, 1],\n",
    "    [1, 0, 0]\n",
    "])\n",
    "\n",
    "# Stack all matrices to analyze conflicts\n",
    "matrices = np.array([expert1, expert2, expert3])"
   ]
  },
  {
   "cell_type": "code",
   "execution_count": 38,
   "metadata": {},
   "outputs": [
    {
     "name": "stdout",
     "output_type": "stream",
     "text": [
      "Agreement Matrix:\n",
      " [[0 0 0]\n",
      " [0 0 1]\n",
      " [1 0 0]]\n",
      "Conflict Matrix:\n",
      " [[0 1 1]\n",
      " [0 0 0]\n",
      " [0 0 0]]\n"
     ]
    }
   ],
   "source": [
    "def compute_agreement_conflict(matrices):\n",
    "    \"\"\"\n",
    "    Compute the agreement and conflict matrices based on multiple input matrices.\n",
    "    \"\"\"\n",
    "    n = matrices.shape[1]\n",
    "    agreement_matrix = np.all(matrices == matrices[0], axis=0).astype(int) * matrices[0]  # Universal agreement\n",
    "    conflict_matrix = np.any(matrices != matrices[0], axis=0).astype(int)  # Any disagreement\n",
    "\n",
    "    return agreement_matrix, conflict_matrix\n",
    "\n",
    "agreement_matrix, conflict_matrix = compute_agreement_conflict(matrices)\n",
    "\n",
    "# Print Results\n",
    "print(\"Agreement Matrix:\\n\", agreement_matrix)\n",
    "print(\"Conflict Matrix:\\n\", conflict_matrix)"
   ]
  },
  {
   "cell_type": "code",
   "execution_count": 39,
   "metadata": {},
   "outputs": [
    {
     "name": "stdout",
     "output_type": "stream",
     "text": [
      "Conflicting Elements (row, column): [(np.int64(0), np.int64(1)), (np.int64(0), np.int64(2))]\n"
     ]
    }
   ],
   "source": [
    "# Step 2: Analyze Conflicts\n",
    "def analyze_conflicts(conflict_matrix):\n",
    "    \"\"\"\n",
    "    Analyze conflicts and identify conflicting elements.\n",
    "    \"\"\"\n",
    "    conflicting_elements = np.argwhere(conflict_matrix == 1)\n",
    "    conflicts = [(i, j) for i, j in conflicting_elements]\n",
    "    return conflicts\n",
    "\n",
    "conflicting_elements = analyze_conflicts(conflict_matrix)\n",
    "print(\"Conflicting Elements (row, column):\", conflicting_elements)"
   ]
  },
  {
   "cell_type": "code",
   "execution_count": 40,
   "metadata": {},
   "outputs": [
    {
     "name": "stdout",
     "output_type": "stream",
     "text": [
      "Resolved Matrix:\n",
      " [[0 1 0]\n",
      " [0 0 1]\n",
      " [1 0 0]]\n"
     ]
    }
   ],
   "source": [
    "# Example Application: Resolve a Conflict\n",
    "def resolve_conflict(expert_matrices, element):\n",
    "    \"\"\"\n",
    "    Resolve a conflict by averaging expert inputs for the conflicting element.\n",
    "    \"\"\"\n",
    "    i, j = element\n",
    "    values = expert_matrices[:, i, j]\n",
    "    resolved_value = round(np.mean(values))  # Example: Use average or majority rule\n",
    "    return resolved_value\n",
    "\n",
    "# Resolve conflicts for each conflicting element\n",
    "resolved_matrix = agreement_matrix.copy()\n",
    "for conflict in conflicting_elements:\n",
    "    resolved_matrix[conflict] = resolve_conflict(matrices, conflict)\n",
    "\n",
    "print(\"Resolved Matrix:\\n\", resolved_matrix)"
   ]
  },
  {
   "cell_type": "code",
   "execution_count": 41,
   "metadata": {},
   "outputs": [
    {
     "name": "stdout",
     "output_type": "stream",
     "text": [
      "Original Agreement Matrix:\n",
      " [[0 0 0]\n",
      " [0 0 1]\n",
      " [1 0 0]]\n",
      "Conflict Matrix:\n",
      " [[0 1 1]\n",
      " [0 0 0]\n",
      " [0 0 0]]\n",
      "Refined Agreement Matrix:\n",
      " [[0 1 0]\n",
      " [0 0 1]\n",
      " [1 0 0]]\n"
     ]
    }
   ],
   "source": [
    "# Refine Agreement Matrix\n",
    "def resolve_conflicts(matrices, conflict_matrix):\n",
    "    \"\"\"\n",
    "    Refine the Agreement Matrix by resolving conflicts using majority rule.\n",
    "    \"\"\"\n",
    "    refined_matrix = agreement_matrix.copy()\n",
    "    conflicts = np.argwhere(conflict_matrix == 1)\n",
    "    for i, j in conflicts:\n",
    "        # Majority rule for conflict resolution\n",
    "        values = matrices[:, i, j]\n",
    "        resolved_value = round(np.mean(values))  # Use average (or majority rule)\n",
    "        refined_matrix[i, j] = resolved_value\n",
    "    return refined_matrix\n",
    "\n",
    "refined_agreement_matrix = resolve_conflicts(matrices, conflict_matrix)\n",
    "\n",
    "# Print Results\n",
    "print(\"Original Agreement Matrix:\\n\", agreement_matrix)\n",
    "print(\"Conflict Matrix:\\n\", conflict_matrix)\n",
    "print(\"Refined Agreement Matrix:\\n\", refined_agreement_matrix)"
   ]
  },
  {
   "cell_type": "code",
   "execution_count": 42,
   "metadata": {},
   "outputs": [
    {
     "name": "stdout",
     "output_type": "stream",
     "text": [
      "Hierarchical Levels:\n",
      " [[0, 1, 2]]\n"
     ]
    }
   ],
   "source": [
    "def partition_hierarchy(reachability):\n",
    "    levels = []\n",
    "    remaining_elements = set(range(len(reachability)))\n",
    "    while remaining_elements:\n",
    "        current_level = []\n",
    "        for i in remaining_elements:\n",
    "            if all(reachability[i, j] == 0 for j in remaining_elements if i != j):\n",
    "                current_level.append(i)\n",
    "        levels.append(current_level)\n",
    "        remaining_elements -= set(current_level)\n",
    "    return levels\n",
    "\n",
    "# Generate reachability matrix for agreement\n",
    "agreement_reachability = reachability_matrix(agreement_matrix)\n",
    "\n",
    "# Partition hierarchy\n",
    "hierarchy_levels = partition_hierarchy(agreement_reachability)\n",
    "\n",
    "print(\"Hierarchical Levels:\\n\", hierarchy_levels)"
   ]
  },
  {
   "cell_type": "code",
   "execution_count": 43,
   "metadata": {},
   "outputs": [
    {
     "data": {
      "image/png": "[encoded data removed]",
      "text/plain": [
       "<Figure size 400x300 with 1 Axes>"
      ]
     },
     "metadata": {},
     "output_type": "display_data"
    }
   ],
   "source": [
    "def visualize_hierarchy(hierarchy, title=\"Hierarchy\"):\n",
    "    G = nx.DiGraph()\n",
    "\n",
    "    # Add nodes and edges based on hierarchy levels\n",
    "    for i, level in enumerate(hierarchy):\n",
    "        for node in level:\n",
    "            G.add_node(node, level=i)  # Set 'level' attribute for each node\n",
    "            if i + 1 < len(hierarchy):  # Ensure there is a next level\n",
    "                for next_node in hierarchy[i + 1]:\n",
    "                    G.add_edge(node, next_node)  # Create edges between levels\n",
    "\n",
    "    # Get positions using a more general layout (e.g., spring_layout or shell_layout)\n",
    "    pos = nx.spring_layout(G)  # Simple layout (works for most cases)\n",
    "\n",
    "    # Draw the graph\n",
    "    plt.figure(figsize=(4, 3))\n",
    "    nx.draw(G, pos, with_labels=True, node_size=2000, node_color=\"skyblue\", font_size=10, edge_color=\"gray\")\n",
    "    plt.title(title)\n",
    "    plt.show()\n",
    "\n",
    "# Visualize the hierarchy\n",
    "visualize_hierarchy(hierarchy_levels, title=\"AdISM Hierarchy\")"
   ]
  },
  {
   "cell_type": "markdown",
   "metadata": {},
   "source": [
    "## Test"
   ]
  },
  {
   "cell_type": "code",
   "execution_count": 26,
   "metadata": {},
   "outputs": [],
   "source": [
    "import numpy as np\n",
    "\n",
    "def ssim_to_reachability_matrix(ssim):\n",
    "    \"\"\"\n",
    "    Converts a Structural Self-Interaction Matrix (SSIM) to a Reachability Matrix.\n",
    "\n",
    "    Args:\n",
    "        ssim (list of list): SSIM matrix with V, A, X, O.\n",
    "\n",
    "    Returns:\n",
    "        np.ndarray: Reachability matrix.\n",
    "    \"\"\"\n",
    "    n = len(ssim)\n",
    "    reachability_matrix = np.zeros((n, n), dtype=int)\n",
    "\n",
    "    # Convert SSIM to Initial Reachability Matrix\n",
    "    for i in range(n):\n",
    "        for j in range(n):\n",
    "            if ssim[i][j] == 'V':\n",
    "                reachability_matrix[i][j] = 1\n",
    "            elif ssim[i][j] == 'A':\n",
    "                reachability_matrix[j][i] = 1\n",
    "            elif ssim[i][j] == 'X':\n",
    "                reachability_matrix[i][j] = 1\n",
    "                reachability_matrix[j][i] = 1\n",
    "            elif ssim[i][j] == 'O':\n",
    "                # No influence\n",
    "                pass\n",
    "\n",
    "    # Perform transitive closure\n",
    "    for k in range(n):\n",
    "        for i in range(n):\n",
    "            for j in range(n):\n",
    "                reachability_matrix[i][j] = reachability_matrix[i][j] or (\n",
    "                    reachability_matrix[i][k] and reachability_matrix[k][j]\n",
    "                )\n",
    "\n",
    "    return reachability_matrix\n"
   ]
  },
  {
   "cell_type": "code",
   "execution_count": 32,
   "metadata": {},
   "outputs": [
    {
     "name": "stdout",
     "output_type": "stream",
     "text": [
      "Initial Reachability Matrix:\n",
      "[[0 1 1 0]\n",
      " [0 0 1 1]\n",
      " [1 0 0 1]\n",
      " [1 1 0 0]]\n",
      "\n",
      "Transitive Closure Matrix:\n",
      "[[1 1 1 1]\n",
      " [1 1 1 1]\n",
      " [1 1 1 1]\n",
      " [1 1 1 1]]\n",
      "\n",
      "Final Reachability Matrix:\n",
      "[[1 1 1 1]\n",
      " [1 1 1 1]\n",
      " [1 1 1 1]\n",
      " [1 1 1 1]]\n"
     ]
    }
   ],
   "source": [
    "import numpy as np\n",
    "\n",
    "# Step 1: Convert SSIM to Initial Reachability Matrix\n",
    "def ssim_to_initial_reachability_matrix(ssim):\n",
    "    \"\"\"\n",
    "    Converts SSIM to the Initial Reachability Matrix based on defined rules.\n",
    "\n",
    "    Args:\n",
    "        ssim (list of list): SSIM matrix with symbols O, X, V, A.\n",
    "\n",
    "    Returns:\n",
    "        np.ndarray: Initial Reachability Matrix.\n",
    "    \"\"\"\n",
    "    n = len(ssim)\n",
    "    initial_matrix = np.zeros((n, n), dtype=int)\n",
    "\n",
    "    for i in range(n):\n",
    "        for j in range(n):\n",
    "            if ssim[i][j] == 'O':  # No influence\n",
    "                initial_matrix[i][j] = 0\n",
    "                initial_matrix[j][i] = 0\n",
    "            elif ssim[i][j] == 'X':  # Mutual influence\n",
    "                initial_matrix[i][j] = 1\n",
    "                initial_matrix[j][i] = 1\n",
    "            elif ssim[i][j] == 'V':  # i influences j\n",
    "                initial_matrix[i][j] = 1\n",
    "                initial_matrix[j][i] = 0\n",
    "            elif ssim[i][j] == 'A':  # j influences i\n",
    "                initial_matrix[i][j] = 0\n",
    "                initial_matrix[j][i] = 1\n",
    "\n",
    "    return initial_matrix\n",
    "\n",
    "# Step 2: Perform Transitive Closure\n",
    "def transitive_closure(matrix):\n",
    "    \"\"\"\n",
    "    Performs transitive closure on the given matrix.\n",
    "\n",
    "    Args:\n",
    "        matrix (np.ndarray): Initial Reachability Matrix.\n",
    "\n",
    "    Returns:\n",
    "        np.ndarray: Transitive Closure Matrix.\n",
    "    \"\"\"\n",
    "    n = matrix.shape[0]\n",
    "    closure_matrix = matrix.copy()\n",
    "\n",
    "    for k in range(n):\n",
    "        for i in range(n):\n",
    "            for j in range(n):\n",
    "                closure_matrix[i][j] = closure_matrix[i][j] or (closure_matrix[i][k] and closure_matrix[k][j])\n",
    "\n",
    "    return closure_matrix\n",
    "\n",
    "# Step 3: Refine Transitive Closure to Final Reachability Matrix\n",
    "def refine_to_final_reachability_matrix(transitive_closure_matrix, initial_matrix):\n",
    "    \"\"\"\n",
    "    Refines the Transitive Closure Matrix into the Final Reachability Matrix.\n",
    "\n",
    "    Args:\n",
    "        transitive_closure_matrix (np.ndarray): Transitive Closure Matrix.\n",
    "        initial_matrix (np.ndarray): Initial Reachability Matrix.\n",
    "\n",
    "    Returns:\n",
    "        np.ndarray: Final Reachability Matrix.\n",
    "    \"\"\"\n",
    "    n = initial_matrix.shape[0]\n",
    "    final_matrix = transitive_closure_matrix.copy()\n",
    "\n",
    "    for i in range(n):\n",
    "        for j in range(n):\n",
    "            # Include only relationships that are in the transitive closure\n",
    "            # AND also in the initial matrix or derived logically.\n",
    "            final_matrix[i][j] = transitive_closure_matrix[i][j]\n",
    "\n",
    "    return final_matrix\n",
    "\n",
    "\n",
    "# Example Usage\n",
    "if __name__ == \"__main__\":\n",
    "    # Example SSIM Matrix\n",
    "    ssim = [\n",
    "        ['O', 'V', 'X', 'A'],\n",
    "        ['A', 'O', 'V', 'X'],\n",
    "        ['X', 'A', 'O', 'V'],\n",
    "        ['V', 'X', 'A', 'O']\n",
    "    ]\n",
    "\n",
    "    # Step 1: Convert SSIM to Initial Reachability Matrix\n",
    "    initial_reachability_matrix = ssim_to_initial_reachability_matrix(ssim)\n",
    "    print(\"Initial Reachability Matrix:\")\n",
    "    print(initial_reachability_matrix)\n",
    "\n",
    "    # Step 2: Perform Transitive Closure\n",
    "    transitive_closure_matrix = transitive_closure(initial_reachability_matrix)\n",
    "    print(\"\\nTransitive Closure Matrix:\")\n",
    "    print(transitive_closure_matrix)\n",
    "\n",
    "    # Step 3: Refine Transitive Closure to Final Reachability Matrix\n",
    "    final_reachability_matrix = refine_to_final_reachability_matrix(transitive_closure_matrix, initial_reachability_matrix)\n",
    "    print(\"\\nFinal Reachability Matrix:\")\n",
    "    print(final_reachability_matrix)\n"
   ]
  },
  {
   "cell_type": "code",
   "execution_count": 27,
   "metadata": {},
   "outputs": [
    {
     "name": "stdout",
     "output_type": "stream",
     "text": [
      "Reachability Matrix:\n",
      "[[1 1 1 1]\n",
      " [1 1 1 1]\n",
      " [1 1 1 1]\n",
      " [1 1 1 1]]\n"
     ]
    }
   ],
   "source": [
    "ssim = [\n",
    "    ['O', 'V', 'X', 'A'],\n",
    "    ['A', 'O', 'V', 'X'],\n",
    "    ['X', 'A', 'O', 'V'],\n",
    "    ['V', 'X', 'A', 'O']\n",
    "]\n",
    "\n",
    "# Convert SSIM to Reachability Matrix\n",
    "reachability_matrix = ssim_to_reachability_matrix(ssim)\n",
    "\n",
    "# Print the Reachability Matrix\n",
    "print(\"Reachability Matrix:\")\n",
    "print(reachability_matrix)"
   ]
  },
  {
   "cell_type": "code",
   "execution_count": 30,
   "metadata": {},
   "outputs": [
    {
     "name": "stdout",
     "output_type": "stream",
     "text": [
      "Final Reachability Matrix:\n",
      "[[-2305843425825530377 -2305843425825530377 -2305843425825530377\n",
      "  -2305843425825530378]\n",
      " [-2305843425825530378 -2305843425825530377 -2305843425825530377\n",
      "  -2305843425825530377]\n",
      " [-2305843425825530377 -2305843425825530378 -2305843425825530377\n",
      "  -2305843425825530377]\n",
      " [-2305843425825530377 -2305843425825530377 -2305843425825530378\n",
      "  -2305843425825530377]]\n"
     ]
    }
   ],
   "source": [
    "# Example SSIM Matrix\n",
    "ssim = [\n",
    "    ['O', 'V', 'X', 'A'],\n",
    "    ['A', 'O', 'V', 'X'],\n",
    "    ['X', 'A', 'O', 'V'],\n",
    "    ['V', 'X', 'A', 'O']\n",
    "]\n",
    "\n",
    "# Convert SSIM to Final Reachability Matrix\n",
    "final_reachability_matrix = ssim_to_reachability_matrix(ssim)\n",
    "\n",
    "# Print the Final Reachability Matrix\n",
    "print(\"Final Reachability Matrix:\")\n",
    "print(final_reachability_matrix)"
   ]
  }
 ],
 "metadata": {
  "kernelspec": {
   "display_name": "Python 3",
   "language": "python",
   "name": "python3"
  },
  "language_info": {
   "codemirror_mode": {
    "name": "ipython",
    "version": 3
   },
   "file_extension": ".py",
   "mimetype": "text/x-python",
   "name": "python",
   "nbconvert_exporter": "python",
   "pygments_lexer": "ipython3",
   "version": "3.13.0"
  }
 },
 "nbformat": 4,
 "nbformat_minor": 2
}
